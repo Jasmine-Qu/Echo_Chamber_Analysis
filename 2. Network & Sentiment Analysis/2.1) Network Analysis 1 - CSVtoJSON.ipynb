{
 "cells": [
  {
   "cell_type": "code",
   "execution_count": 1,
   "metadata": {},
   "outputs": [],
   "source": [
    "import csv\n",
    "import json\n",
    "\n",
    "csvfile = open('submissions_full.csv', 'r', encoding='utf-8')\n",
    "jsonfile = open('submissions_full.json', 'w', encoding='utf-8')\n",
    "\n",
    "fieldnames = ('author',\n",
    " 'author_fullname',\n",
    " 'author_fullname_lvl',\n",
    " 'created_utc',\n",
    " 'full_link',\n",
    " 'id',\n",
    " 'num_comments',\n",
    " 'num_crossposts',\n",
    " 'score',\n",
    " 'selftext',\n",
    " 'subreddit',\n",
    " 'subreddit_id',\n",
    " 'subreddit_id_lvl',\n",
    " 'subreddit_subscribers',\n",
    " 'subreddit_type',\n",
    " 'title')\n",
    "reader = csv.DictReader(csvfile, fieldnames)\n",
    "for row in reader:\n",
    "    json.dump(row, jsonfile)\n",
    "    jsonfile.write('\\n')\n",
    "    "
   ]
  }
 ],
 "metadata": {
  "kernelspec": {
   "display_name": "Python 3",
   "language": "python",
   "name": "python3"
  },
  "language_info": {
   "codemirror_mode": {
    "name": "ipython",
    "version": 3
   },
   "file_extension": ".py",
   "mimetype": "text/x-python",
   "name": "python",
   "nbconvert_exporter": "python",
   "pygments_lexer": "ipython3",
   "version": "3.7.6"
  }
 },
 "nbformat": 4,
 "nbformat_minor": 4
}
