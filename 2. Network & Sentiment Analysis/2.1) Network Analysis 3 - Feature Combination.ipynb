{
 "cells": [
  {
   "cell_type": "code",
   "execution_count": 2,
   "metadata": {},
   "outputs": [],
   "source": [
    "import pandas as pd\n",
    "import numpy as np"
   ]
  },
  {
   "cell_type": "markdown",
   "metadata": {},
   "source": [
    "### Read metrics csv"
   ]
  },
  {
   "cell_type": "code",
   "execution_count": 3,
   "metadata": {},
   "outputs": [],
   "source": [
    "author_cnt = pd.read_csv('author_cnt.csv',header=None)\n",
    "id_cnt = pd.read_csv('id_cnt.csv',header=None)\n",
    "subscribers_avg = pd.read_csv('subscribers_avg.csv',header=None)\n",
    "score_avg = pd.read_csv('score_avg.csv',header=None)\n",
    "comment_avg = pd.read_csv('comment_avg.csv',header=None)\n",
    "retention_rate = pd.read_csv('retention_rate.csv')"
   ]
  },
  {
   "cell_type": "code",
   "execution_count": 75,
   "metadata": {},
   "outputs": [],
   "source": [
    "def rename(dataset):\n",
    "    dataset.loc[dataset['subreddit'] == '2th52','subreddit'] = 'wallstreetbets'\n",
    "    dataset.loc[dataset['subreddit'] == '2s7v0','subreddit'] = 'SecurityAnalysis'\n",
    "    dataset.loc[dataset['subreddit'] == '2qhhq','subreddit'] = 'investing'\n",
    "    dataset.loc[dataset['subreddit'] == '2qjfk','subreddit'] = 'stocks'\n",
    "    dataset.loc[dataset['subreddit'] == '2uud8','subreddit'] = 'RobinHood'"
   ]
  },
  {
   "cell_type": "code",
   "execution_count": 68,
   "metadata": {},
   "outputs": [],
   "source": [
    "df_list = [author_cnt,id_cnt,subscribers_avg,score_avg,comment_avg]\n",
    "name_list = ['author_cnt','id_cnt','subscribers_avg','score_avg','comment_avg']\n",
    "for i in range(len(df_list)):\n",
    "    df_list[i].columns =[name_list[i],'subreddit','date']\n",
    "    df_list[i]['date'] = pd.to_datetime(df_list[i].date, format='%m/%d/%y')\n",
    "    rename(df_list[i])"
   ]
  },
  {
   "cell_type": "code",
   "execution_count": 69,
   "metadata": {},
   "outputs": [],
   "source": [
    "reddit_list = [\n",
    "'wallstreetbets',\n",
    "'SecurityAnalysis',\n",
    "'investing',\n",
    "'stocks',\n",
    "'RobinHood']"
   ]
  },
  {
   "cell_type": "code",
   "execution_count": 70,
   "metadata": {},
   "outputs": [],
   "source": [
    "date = pd.date_range('2019-01-01','2021-02-28')\n",
    "df_whole = pd.DataFrame({ 'date': date }) "
   ]
  },
  {
   "cell_type": "markdown",
   "metadata": {},
   "source": [
    "### Combine dataframes to one"
   ]
  },
  {
   "cell_type": "code",
   "execution_count": 71,
   "metadata": {},
   "outputs": [],
   "source": [
    "for i in range(len(df_list)):\n",
    "    grouped = df_list[i].groupby(['subreddit'])\n",
    "    for reddit in reddit_list:\n",
    "        df = grouped.get_group(reddit)\n",
    "        df = df.drop('subreddit',axis=1)\n",
    "        df.rename(columns={name_list[i]: reddit+'_'+name_list[i]}, inplace=True)\n",
    "        df_whole = df_whole.merge(df, on='date', how='outer')"
   ]
  },
  {
   "cell_type": "code",
   "execution_count": 83,
   "metadata": {},
   "outputs": [],
   "source": [
    "rename(retention_rate)\n",
    "retention_rate['date'] = pd.to_datetime(retention_rate.date, format='%Y/%m/%d')\n",
    "\n",
    "grouped = retention_rate.groupby(['subreddit'])\n",
    "for reddit in reddit_list:\n",
    "    df = grouped.get_group(reddit)\n",
    "    df = df.drop('subreddit',axis=1)\n",
    "    df.rename(columns={'retention_rate': reddit+'_'+'retention_rate'}, inplace=True)\n",
    "    df_whole = df_whole.merge(df, on='date', how='outer')"
   ]
  },
  {
   "cell_type": "code",
   "execution_count": 85,
   "metadata": {},
   "outputs": [],
   "source": [
    "connectivity = pd.read_csv('connectivity.csv',parse_dates=['date'])\n",
    "df_whole = df_whole.merge(connectivity, on='date', how='outer')"
   ]
  },
  {
   "cell_type": "markdown",
   "metadata": {},
   "source": [
    "### Output final csv"
   ]
  },
  {
   "cell_type": "code",
   "execution_count": 90,
   "metadata": {},
   "outputs": [],
   "source": [
    "df_whole.to_csv('network_metrics_daily.csv',index=False)"
   ]
  }
 ],
 "metadata": {
  "kernelspec": {
   "display_name": "Python 3",
   "language": "python",
   "name": "python3"
  },
  "language_info": {
   "codemirror_mode": {
    "name": "ipython",
    "version": 3
   },
   "file_extension": ".py",
   "mimetype": "text/x-python",
   "name": "python",
   "nbconvert_exporter": "python",
   "pygments_lexer": "ipython3",
   "version": "3.7.6"
  }
 },
 "nbformat": 4,
 "nbformat_minor": 4
}
