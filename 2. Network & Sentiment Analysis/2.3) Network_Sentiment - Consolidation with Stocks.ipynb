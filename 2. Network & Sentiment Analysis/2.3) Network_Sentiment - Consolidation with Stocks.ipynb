{
 "cells": [
  {
   "cell_type": "code",
   "execution_count": 14,
   "metadata": {},
   "outputs": [],
   "source": [
    "import pandas as pd\n",
    "import numpy as np\n",
    "import sys"
   ]
  },
  {
   "cell_type": "code",
   "execution_count": 15,
   "metadata": {},
   "outputs": [],
   "source": [
    "# Getting stocks score from 2019-01-01 to 2021-03-01\n",
    "import yfinance as yf\n",
    "stocks_topull = ['GME','TSLA','SPY','^IXIC','DJIA']\n",
    "start_date = '2019-01-01'\n",
    "end_date = '2021-03-01'\n",
    " \n",
    "#input string variable\n",
    "def getting_spy_score(start,end,ticker):\n",
    "    pull_data = yf.Ticker(ticker)\n",
    "    stock_data = pull_data.history(start = start, end = end)\n",
    "    stock_data = stock_data['Close'] #taking Close score as daily score\n",
    "    return stock_data\n",
    " \n",
    "for stock_no, stock_i in enumerate(stocks_topull):\n",
    "    sample_stock = getting_spy_score(start_date,end_date,stock_i)\n",
    "    sample_stock = pd.DataFrame(sample_stock).reset_index()\n",
    "    sample_stock.columns = ['Date_Type',stock_i]\n",
    " \n",
    "    if stock_no == 0:\n",
    "        full_stock_df = sample_stock.copy()\n",
    "    else:\n",
    "        full_stock_df = pd.merge(full_stock_df, sample_stock,\n",
    "                                 on=['Date_Type'],\n",
    "                                 how='outer')\n",
    "        \n",
    "full_stock_df['Date'] = full_stock_df['Date_Type'].astype(str)"
   ]
  },
  {
   "cell_type": "code",
   "execution_count": 22,
   "metadata": {},
   "outputs": [],
   "source": [
    "## Import Sentiment Data\n",
    "sentiment_data = pd.read_csv(\"Sentiment_Data.csv\")"
   ]
  },
  {
   "cell_type": "code",
   "execution_count": 23,
   "metadata": {},
   "outputs": [],
   "source": [
    "## Combine with Stocks data\n",
    "sentiment_stocks = pd.merge(sentiment_data,full_stock_df,\n",
    "                      on = ['Date'],\n",
    "                      how = 'left'\n",
    "                     )"
   ]
  },
  {
   "cell_type": "code",
   "execution_count": 24,
   "metadata": {},
   "outputs": [],
   "source": [
    "sentiment_stocks = sentiment_stocks[['Date', 'score', 'sentiment_score', 'bull_scores', 'bear_scores',\n",
    "       'num_comments', 'num_crossposts', 'GME', 'TSLA', 'SPY',\n",
    "       '^IXIC', 'DJIA']].copy()\n",
    "sentiment_stocks.columns = ['date', 'score', 'sentiment_score', 'bull_scores', 'bear_scores',\n",
    "       'num_comments', 'num_crossposts', 'GME_y', 'TSLA_y', 'SPY_y','^IXIC_y', 'DJIA_y']"
   ]
  },
  {
   "cell_type": "code",
   "execution_count": 25,
   "metadata": {},
   "outputs": [
    {
     "name": "stdout",
     "output_type": "stream",
     "text": [
      "Running for 20/787 (GME_y)           "
     ]
    },
    {
     "name": "stderr",
     "output_type": "stream",
     "text": [
      "C:\\Users\\Ace\\Anaconda2\\envs\\py37\\lib\\site-packages\\ipykernel_launcher.py:48: SettingWithCopyWarning: \n",
      "A value is trying to be set on a copy of a slice from a DataFrame\n",
      "\n",
      "See the caveats in the documentation: http://pandas.pydata.org/pandas-docs/stable/user_guide/indexing.html#returning-a-view-versus-a-copy\n"
     ]
    },
    {
     "name": "stdout",
     "output_type": "stream",
     "text": [
      "Running for 786/787 (DJIA_y)          "
     ]
    }
   ],
   "source": [
    "## Processing Data\n",
    "full_final = sentiment_stocks.copy()\n",
    "stock_cols = [i+\"_y\" for i in full_stock_df.columns if 'Date' not in i]\n",
    "rows_drop = []\n",
    "for row_i in range(len(full_final)):\n",
    "    if row_i == 0:\n",
    "        if any(np.isnan(full_final[stock_i][row_i]) for stock_i in stock_cols):\n",
    "            rows_drop += [row_i]\n",
    "    elif row_i == (len(full_final)-1):\n",
    "        if any(np.isnan(full_final[stock_i][row_i]) for stock_i in stock_cols):\n",
    "            rows_drop += [row_i]\n",
    "    else:\n",
    "        for stock_i in stock_cols:\n",
    "            \n",
    "            sys.stdout.write(\"\\rRunning for {}/{} ({})         \".format(\n",
    "                row_i+1, len(full_final),\n",
    "                stock_i\n",
    "            ))\n",
    "            sys.stdout.flush()\n",
    "            \n",
    "            if np.isnan(full_final[stock_i][row_i]):\n",
    "                before_i = 1\n",
    "                before_status_done = True\n",
    "                while before_status_done:\n",
    "                    \n",
    "                    if (row_i-before_i) < 0:\n",
    "                        before_status_done = False\n",
    "                    elif np.isnan(full_final[stock_i][row_i-before_i]):\n",
    "                        before_i += 1\n",
    "                    else:\n",
    "                        before_value = full_final[stock_i][row_i-before_i]\n",
    "                        before_status_done = False\n",
    "\n",
    "                after_i = 1\n",
    "                after_status_done = True\n",
    "                while after_status_done:\n",
    "                    if (row_i+after_i) >= len(full_final):\n",
    "                        after_status_done = False\n",
    "                    elif np.isnan(full_final[stock_i][row_i+after_i]):\n",
    "                        after_i += 1\n",
    "                    else:\n",
    "                        after_value = full_final[stock_i][row_i+after_i]\n",
    "                        after_status_done = False\n",
    "                \n",
    "                if (row_i-before_i) < 0 or (row_i+after_i) >= len(full_final):\n",
    "                    rows_drop += [row_i]\n",
    "                else:\n",
    "                    full_final[stock_i][row_i] = np.mean([after_value, before_value])\n",
    "                \n",
    "            else:\n",
    "                continue"
   ]
  },
  {
   "cell_type": "code",
   "execution_count": 26,
   "metadata": {},
   "outputs": [],
   "source": [
    "sentiment_stocks = full_final.copy()"
   ]
  },
  {
   "cell_type": "code",
   "execution_count": 31,
   "metadata": {},
   "outputs": [],
   "source": [
    "## Import network_data\n",
    "network_data = pd.read_csv(\"network_metrics_daily.csv\")"
   ]
  },
  {
   "cell_type": "code",
   "execution_count": 32,
   "metadata": {},
   "outputs": [
    {
     "name": "stdout",
     "output_type": "stream",
     "text": [
      "Running for 354/790 (investing_author_cnt)                            "
     ]
    },
    {
     "name": "stderr",
     "output_type": "stream",
     "text": [
      "C:\\Users\\Ace\\Anaconda2\\envs\\py37\\lib\\site-packages\\ipykernel_launcher.py:49: SettingWithCopyWarning: \n",
      "A value is trying to be set on a copy of a slice from a DataFrame\n",
      "\n",
      "See the caveats in the documentation: http://pandas.pydata.org/pandas-docs/stable/user_guide/indexing.html#returning-a-view-versus-a-copy\n"
     ]
    },
    {
     "name": "stdout",
     "output_type": "stream",
     "text": [
      "Running for 789/790 (connectivity)                                    "
     ]
    }
   ],
   "source": [
    "## Processing network data\n",
    "full_final = network_data.copy()\n",
    "stock_cols = [i for i in full_final.columns if 'date' not in i]\n",
    "\n",
    "rows_drop = []\n",
    "for row_i in range(len(full_final)):\n",
    "    if row_i == 0:\n",
    "        if any(np.isnan(full_final[stock_i][row_i]) for stock_i in stock_cols):\n",
    "            rows_drop += [row_i]\n",
    "    elif row_i == (len(full_final)-1):\n",
    "        if any(np.isnan(full_final[stock_i][row_i]) for stock_i in stock_cols):\n",
    "            rows_drop += [row_i]\n",
    "    else:\n",
    "        for stock_i in stock_cols:\n",
    "            \n",
    "            sys.stdout.write(\"\\rRunning for {}/{} ({})                \".format(\n",
    "                row_i+1, len(full_final),\n",
    "                stock_i\n",
    "            ))\n",
    "            sys.stdout.flush()\n",
    "            \n",
    "            if np.isnan(full_final[stock_i][row_i]):\n",
    "                before_i = 1\n",
    "                before_status_done = True\n",
    "                while before_status_done:\n",
    "                    \n",
    "                    if (row_i-before_i) < 0:\n",
    "                        before_status_done = False\n",
    "                    elif np.isnan(full_final[stock_i][row_i-before_i]):\n",
    "                        before_i += 1\n",
    "                    else:\n",
    "                        before_value = full_final[stock_i][row_i-before_i]\n",
    "                        before_status_done = False\n",
    "\n",
    "                after_i = 1\n",
    "                after_status_done = True\n",
    "                while after_status_done:\n",
    "                    if (row_i+after_i) >= len(full_final):\n",
    "                        after_status_done = False\n",
    "                    elif np.isnan(full_final[stock_i][row_i+after_i]):\n",
    "                        after_i += 1\n",
    "                    else:\n",
    "                        after_value = full_final[stock_i][row_i+after_i]\n",
    "                        after_status_done = False\n",
    "                \n",
    "                if (row_i-before_i) < 0 or (row_i+after_i) >= len(full_final):\n",
    "                    rows_drop += [row_i]\n",
    "                else:\n",
    "                    full_final[stock_i][row_i] = np.mean([after_value, before_value])\n",
    "                \n",
    "            else:\n",
    "                continue"
   ]
  },
  {
   "cell_type": "code",
   "execution_count": 33,
   "metadata": {
    "scrolled": true
   },
   "outputs": [],
   "source": [
    "full_final = full_final.drop(list(set(rows_drop))).copy()"
   ]
  },
  {
   "cell_type": "code",
   "execution_count": 34,
   "metadata": {},
   "outputs": [],
   "source": [
    "## combine with sentiment analysis\n",
    "full_all = pd.merge(sentiment_stocks, full_final,\n",
    "                   on=['date'],\n",
    "                   how='inner')"
   ]
  },
  {
   "cell_type": "code",
   "execution_count": 39,
   "metadata": {},
   "outputs": [],
   "source": [
    "full_all.to_csv(\"Full_Dataset.csv\",index=False)"
   ]
  }
 ],
 "metadata": {
  "kernelspec": {
   "display_name": "Python 3",
   "language": "python",
   "name": "python3"
  },
  "language_info": {
   "codemirror_mode": {
    "name": "ipython",
    "version": 3
   },
   "file_extension": ".py",
   "mimetype": "text/x-python",
   "name": "python",
   "nbconvert_exporter": "python",
   "pygments_lexer": "ipython3",
   "version": "3.7.7"
  },
  "latex_envs": {
   "LaTeX_envs_menu_present": true,
   "autoclose": false,
   "autocomplete": true,
   "bibliofile": "biblio.bib",
   "cite_by": "apalike",
   "current_citInitial": 1,
   "eqLabelWithNumbers": true,
   "eqNumInitial": 1,
   "hotkeys": {
    "equation": "Ctrl-E",
    "itemize": "Ctrl-I"
   },
   "labels_anchors": false,
   "latex_user_defs": false,
   "report_style_numbering": false,
   "user_envs_cfg": false
  }
 },
 "nbformat": 4,
 "nbformat_minor": 4
}
