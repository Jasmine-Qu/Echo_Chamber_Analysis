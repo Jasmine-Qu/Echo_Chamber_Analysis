{
 "cells": [
  {
   "cell_type": "code",
   "execution_count": 1,
   "metadata": {},
   "outputs": [],
   "source": [
    "import pandas as pd\n",
    "import numpy as np\n",
    "import matplotlib.pyplot as plt\n",
    "import seaborn as sns\n",
    "\n",
    "import pyspark\n",
    "from pyspark import SparkConf, SparkContext\n",
    "from pyspark.sql.functions import udf,desc,abs\n",
    "from datetime import datetime"
   ]
  },
  {
   "cell_type": "code",
   "execution_count": 2,
   "metadata": {},
   "outputs": [],
   "source": [
    "conf = SparkConf()\n",
    "sc = SparkContext(conf = conf)\n",
    "spark = pyspark.SQLContext(sc)"
   ]
  },
  {
   "cell_type": "markdown",
   "metadata": {},
   "source": [
    "### Read json"
   ]
  },
  {
   "cell_type": "code",
   "execution_count": 3,
   "metadata": {},
   "outputs": [],
   "source": [
    "reddit_df = spark.read.json('submissions_full.json')"
   ]
  },
  {
   "cell_type": "code",
   "execution_count": 4,
   "metadata": {},
   "outputs": [
    {
     "name": "stdout",
     "output_type": "stream",
     "text": [
      "root\n",
      " |-- author: string (nullable = true)\n",
      " |-- author_fullname: string (nullable = true)\n",
      " |-- author_fullname_lvl: string (nullable = true)\n",
      " |-- created_utc: string (nullable = true)\n",
      " |-- full_link: string (nullable = true)\n",
      " |-- id: string (nullable = true)\n",
      " |-- num_comments: string (nullable = true)\n",
      " |-- num_crossposts: string (nullable = true)\n",
      " |-- score: string (nullable = true)\n",
      " |-- selftext: string (nullable = true)\n",
      " |-- subreddit: string (nullable = true)\n",
      " |-- subreddit_id: string (nullable = true)\n",
      " |-- subreddit_id_lvl: string (nullable = true)\n",
      " |-- subreddit_subscribers: string (nullable = true)\n",
      " |-- subreddit_type: string (nullable = true)\n",
      " |-- title: string (nullable = true)\n",
      "\n"
     ]
    }
   ],
   "source": [
    "reddit_df.printSchema()"
   ]
  },
  {
   "cell_type": "code",
   "execution_count": 5,
   "metadata": {},
   "outputs": [
    {
     "data": {
      "text/plain": [
       "[Row(author='CautiousInvestor', author_fullname='2gcxulwq', author_fullname_lvl='t2', created_utc='2019-01-01 08:01:42', full_link='https://www.reddit.com/r/investing/comments/ab8cj7/how_can_the_us_stock_market_gain_7_on_average_per/', id='ab8cj7', num_comments='412', num_crossposts='0', score='1', selftext='', subreddit='investing', subreddit_id='2qhhq', subreddit_id_lvl='t5', subreddit_subscribers='643895', subreddit_type='public', title='How can the US stock market gain 7% on average per year, while the economy only grows 1-3% annually?'),\n",
       " Row(author='Sofla328', author_fullname='f30ge', author_fullname_lvl='t2', created_utc='2019-01-01 08:03:29', full_link='https://www.reddit.com/r/stocks/comments/ab8d5o/term_for_a_broker_buying_worthless_positions_from/', id='ab8d5o', num_comments='1', num_crossposts='0', score='1', selftext='There\\'s a term like \"closet trade\" or something like that, that is when a broker will purchase worthless positions from a client for a nominal price so the client can wipe it from her books and show the loss. The term escapes me and is driving me nuts. I can not find it via google. Any help?', subreddit='stocks', subreddit_id='2qjfk', subreddit_id_lvl='t5', subreddit_subscribers='307335', subreddit_type='public', title='Term for a broker buying worthless positions from client?')]"
      ]
     },
     "execution_count": 5,
     "metadata": {},
     "output_type": "execute_result"
    }
   ],
   "source": [
    "reddit_df.take(2)"
   ]
  },
  {
   "cell_type": "markdown",
   "metadata": {},
   "source": [
    "### Change the utc form into local time(string)"
   ]
  },
  {
   "cell_type": "code",
   "execution_count": 6,
   "metadata": {},
   "outputs": [],
   "source": [
    "# create week, month, year functions\n",
    "# get week, month, year values\n",
    "week =  udf(lambda x: datetime.strptime(x, '%Y-%m-%d %H:%M:%S').strftime('%W'))\n",
    "reddit_df = reddit_df.withColumn('week', week(reddit_df['created_utc']))\n",
    "\n",
    "month = udf(lambda x: datetime.strptime(x, '%Y-%m-%d %H:%M:%S').strftime('%m'))\n",
    "reddit_df = reddit_df.withColumn('month', month(reddit_df['created_utc']))\n",
    "\n",
    "year = udf(lambda x: datetime.strptime(x, '%Y-%m-%d %H:%M:%S').strftime('%Y'))\n",
    "reddit_df = reddit_df.withColumn('year', year(reddit_df['created_utc']))\n",
    "\n",
    "day = udf(lambda x: datetime.strptime(x, '%Y-%m-%d %H:%M:%S').strftime('%x'))\n",
    "reddit_df = reddit_df.withColumn('date', day(reddit_df['created_utc']))\n"
   ]
  },
  {
   "cell_type": "markdown",
   "metadata": {},
   "source": [
    "### RDD"
   ]
  },
  {
   "cell_type": "code",
   "execution_count": 7,
   "metadata": {},
   "outputs": [],
   "source": [
    "reddit_rdd = reddit_df.rdd"
   ]
  },
  {
   "cell_type": "code",
   "execution_count": 8,
   "metadata": {},
   "outputs": [],
   "source": [
    "# get unique subreddit id and name\n",
    "subreddit = reddit_rdd.map(lambda x:(x['subreddit'],x['subreddit_id'])).distinct()"
   ]
  },
  {
   "cell_type": "code",
   "execution_count": 9,
   "metadata": {},
   "outputs": [
    {
     "data": {
      "text/plain": [
       "[('SecurityAnalysis', '2s7v0'),\n",
       " ('stocks', '2qjfk'),\n",
       " ('wallstreetbets', '2th52'),\n",
       " ('investing', '2qhhq'),\n",
       " ('RobinHood', '2uud8')]"
      ]
     },
     "execution_count": 9,
     "metadata": {},
     "output_type": "execute_result"
    }
   ],
   "source": [
    "subreddit = subreddit.collect()\n",
    "subreddit "
   ]
  },
  {
   "cell_type": "markdown",
   "metadata": {},
   "source": [
    "## 1. Author count for each subreddit by day"
   ]
  },
  {
   "cell_type": "code",
   "execution_count": 22,
   "metadata": {},
   "outputs": [],
   "source": [
    "# get author subreddit pairs\n",
    "author_subreddit_pairs = reddit_rdd.map(lambda x:((x['author_fullname'],x['subreddit_id'],x['date']),1))\\\n",
    ".filter(lambda x: x[0][0] != 'nan')\\\n",
    ".reduceByKey(lambda x,y: x+y).mapValues(lambda x: 1)\n",
    "\n",
    "# get author count\n",
    "author_subreddit_cnt = author_subreddit_pairs.map(lambda x:((x[0][1],x[0][2]),1))\\\n",
    ".reduceByKey(lambda x,y:x+y)"
   ]
  },
  {
   "cell_type": "code",
   "execution_count": 23,
   "metadata": {},
   "outputs": [],
   "source": [
    "# save the result to the file\n",
    "deptColumns = [\"temp\",\"author_cnt\"]\n",
    "df1 = author_subreddit_cnt.toDF(deptColumns)\n",
    "\n",
    "sid = udf(lambda x: x[0] )\n",
    "df1 = df1.withColumn('SubredditID', sid(df1['temp']))\n",
    "\n",
    "date = udf(lambda x: x[1] )\n",
    "df1 = df1.withColumn('date', date(df1['temp']))\n",
    "\n",
    "df1 = df1.drop('temp')\n",
    "\n",
    "df1.coalesce(1).write.csv('author_cnt')"
   ]
  },
  {
   "cell_type": "markdown",
   "metadata": {},
   "source": [
    "#### Stats"
   ]
  },
  {
   "cell_type": "code",
   "execution_count": 41,
   "metadata": {},
   "outputs": [
    {
     "data": {
      "text/html": [
       "<div>\n",
       "<style scoped>\n",
       "    .dataframe tbody tr th:only-of-type {\n",
       "        vertical-align: middle;\n",
       "    }\n",
       "\n",
       "    .dataframe tbody tr th {\n",
       "        vertical-align: top;\n",
       "    }\n",
       "\n",
       "    .dataframe thead th {\n",
       "        text-align: right;\n",
       "    }\n",
       "</style>\n",
       "<table border=\"1\" class=\"dataframe\">\n",
       "  <thead>\n",
       "    <tr style=\"text-align: right;\">\n",
       "      <th></th>\n",
       "      <th>count</th>\n",
       "      <th>mean</th>\n",
       "      <th>std</th>\n",
       "      <th>min</th>\n",
       "      <th>25%</th>\n",
       "      <th>50%</th>\n",
       "      <th>75%</th>\n",
       "      <th>max</th>\n",
       "    </tr>\n",
       "    <tr>\n",
       "      <th>subreddit</th>\n",
       "      <th></th>\n",
       "      <th></th>\n",
       "      <th></th>\n",
       "      <th></th>\n",
       "      <th></th>\n",
       "      <th></th>\n",
       "      <th></th>\n",
       "      <th></th>\n",
       "    </tr>\n",
       "  </thead>\n",
       "  <tbody>\n",
       "    <tr>\n",
       "      <th>RobinHood</th>\n",
       "      <td>787.0</td>\n",
       "      <td>44.200762</td>\n",
       "      <td>29.825495</td>\n",
       "      <td>6.0</td>\n",
       "      <td>24.0</td>\n",
       "      <td>36.0</td>\n",
       "      <td>60.0</td>\n",
       "      <td>247.0</td>\n",
       "    </tr>\n",
       "    <tr>\n",
       "      <th>SecurityAnalysis</th>\n",
       "      <td>784.0</td>\n",
       "      <td>7.096939</td>\n",
       "      <td>3.344929</td>\n",
       "      <td>1.0</td>\n",
       "      <td>5.0</td>\n",
       "      <td>7.0</td>\n",
       "      <td>9.0</td>\n",
       "      <td>30.0</td>\n",
       "    </tr>\n",
       "    <tr>\n",
       "      <th>investing</th>\n",
       "      <td>787.0</td>\n",
       "      <td>73.771283</td>\n",
       "      <td>28.339518</td>\n",
       "      <td>20.0</td>\n",
       "      <td>53.0</td>\n",
       "      <td>72.0</td>\n",
       "      <td>89.0</td>\n",
       "      <td>223.0</td>\n",
       "    </tr>\n",
       "    <tr>\n",
       "      <th>stocks</th>\n",
       "      <td>787.0</td>\n",
       "      <td>70.988564</td>\n",
       "      <td>42.307593</td>\n",
       "      <td>10.0</td>\n",
       "      <td>36.0</td>\n",
       "      <td>62.0</td>\n",
       "      <td>101.0</td>\n",
       "      <td>255.0</td>\n",
       "    </tr>\n",
       "    <tr>\n",
       "      <th>wallstreetbets</th>\n",
       "      <td>787.0</td>\n",
       "      <td>134.560356</td>\n",
       "      <td>49.617466</td>\n",
       "      <td>36.0</td>\n",
       "      <td>94.0</td>\n",
       "      <td>129.0</td>\n",
       "      <td>169.0</td>\n",
       "      <td>296.0</td>\n",
       "    </tr>\n",
       "  </tbody>\n",
       "</table>\n",
       "</div>"
      ],
      "text/plain": [
       "                  count        mean        std   min   25%    50%    75%  \\\n",
       "subreddit                                                                  \n",
       "RobinHood         787.0   44.200762  29.825495   6.0  24.0   36.0   60.0   \n",
       "SecurityAnalysis  784.0    7.096939   3.344929   1.0   5.0    7.0    9.0   \n",
       "investing         787.0   73.771283  28.339518  20.0  53.0   72.0   89.0   \n",
       "stocks            787.0   70.988564  42.307593  10.0  36.0   62.0  101.0   \n",
       "wallstreetbets    787.0  134.560356  49.617466  36.0  94.0  129.0  169.0   \n",
       "\n",
       "                    max  \n",
       "subreddit                \n",
       "RobinHood         247.0  \n",
       "SecurityAnalysis   30.0  \n",
       "investing         223.0  \n",
       "stocks            255.0  \n",
       "wallstreetbets    296.0  "
      ]
     },
     "execution_count": 41,
     "metadata": {},
     "output_type": "execute_result"
    }
   ],
   "source": [
    "#author_cnt = pd.read_csv('author_cnt.csv',header=None)\n",
    "author_cnt.columns =['count','subreddit','date']\n",
    "author_cnt.groupby(['subreddit'])['count'].describe()"
   ]
  },
  {
   "cell_type": "markdown",
   "metadata": {},
   "source": [
    "## 2. Post count for each subreddit by day"
   ]
  },
  {
   "cell_type": "code",
   "execution_count": 24,
   "metadata": {},
   "outputs": [],
   "source": [
    "# count the id in each subreddit in every day\n",
    "ID_subreddit_pairs = reddit_rdd.map(lambda x:((x['id'],x['subreddit_id'],x['date']),1))\\\n",
    ".filter(lambda x: x[0][0] != 'nan')\\\n",
    ".reduceByKey(lambda x,y: x+y).mapValues(lambda x: 1)\n",
    "\n",
    "ID_subreddit_cnt = ID_subreddit_pairs.map(lambda x:((x[0][1],x[0][2]),1))\\\n",
    ".reduceByKey(lambda x,y:x+y)"
   ]
  },
  {
   "cell_type": "code",
   "execution_count": 25,
   "metadata": {},
   "outputs": [],
   "source": [
    "# save the result to the file\n",
    "deptColumns = [\"temp\",\"id_cnt\"]\n",
    "df1 = ID_subreddit_cnt.toDF(deptColumns)\n",
    "\n",
    "sid = udf(lambda x: x[0] )\n",
    "df1 = df1.withColumn('SubredditID', sid(df1['temp']))\n",
    "\n",
    "date = udf(lambda x: x[1] )\n",
    "df1 = df1.withColumn('date', date(df1['temp']))\n",
    "\n",
    "df1 = df1.drop('temp')\n",
    "\n",
    "df1.coalesce(1).write.csv('id_cnt')"
   ]
  },
  {
   "cell_type": "markdown",
   "metadata": {},
   "source": [
    "#### Stats"
   ]
  },
  {
   "cell_type": "code",
   "execution_count": 40,
   "metadata": {},
   "outputs": [
    {
     "data": {
      "text/html": [
       "<div>\n",
       "<style scoped>\n",
       "    .dataframe tbody tr th:only-of-type {\n",
       "        vertical-align: middle;\n",
       "    }\n",
       "\n",
       "    .dataframe tbody tr th {\n",
       "        vertical-align: top;\n",
       "    }\n",
       "\n",
       "    .dataframe thead th {\n",
       "        text-align: right;\n",
       "    }\n",
       "</style>\n",
       "<table border=\"1\" class=\"dataframe\">\n",
       "  <thead>\n",
       "    <tr style=\"text-align: right;\">\n",
       "      <th></th>\n",
       "      <th>count</th>\n",
       "      <th>mean</th>\n",
       "      <th>std</th>\n",
       "      <th>min</th>\n",
       "      <th>25%</th>\n",
       "      <th>50%</th>\n",
       "      <th>75%</th>\n",
       "      <th>max</th>\n",
       "    </tr>\n",
       "    <tr>\n",
       "      <th>subreddit</th>\n",
       "      <th></th>\n",
       "      <th></th>\n",
       "      <th></th>\n",
       "      <th></th>\n",
       "      <th></th>\n",
       "      <th></th>\n",
       "      <th></th>\n",
       "      <th></th>\n",
       "    </tr>\n",
       "  </thead>\n",
       "  <tbody>\n",
       "    <tr>\n",
       "      <th>RobinHood</th>\n",
       "      <td>787.0</td>\n",
       "      <td>48.623888</td>\n",
       "      <td>34.080407</td>\n",
       "      <td>6.0</td>\n",
       "      <td>24.0</td>\n",
       "      <td>38.0</td>\n",
       "      <td>68.00</td>\n",
       "      <td>258.0</td>\n",
       "    </tr>\n",
       "    <tr>\n",
       "      <th>SecurityAnalysis</th>\n",
       "      <td>784.0</td>\n",
       "      <td>8.196429</td>\n",
       "      <td>4.019707</td>\n",
       "      <td>1.0</td>\n",
       "      <td>5.0</td>\n",
       "      <td>8.0</td>\n",
       "      <td>10.25</td>\n",
       "      <td>31.0</td>\n",
       "    </tr>\n",
       "    <tr>\n",
       "      <th>investing</th>\n",
       "      <td>787.0</td>\n",
       "      <td>82.658196</td>\n",
       "      <td>33.939121</td>\n",
       "      <td>21.0</td>\n",
       "      <td>58.0</td>\n",
       "      <td>80.0</td>\n",
       "      <td>100.00</td>\n",
       "      <td>268.0</td>\n",
       "    </tr>\n",
       "    <tr>\n",
       "      <th>stocks</th>\n",
       "      <td>787.0</td>\n",
       "      <td>81.621347</td>\n",
       "      <td>50.449571</td>\n",
       "      <td>11.0</td>\n",
       "      <td>39.0</td>\n",
       "      <td>70.0</td>\n",
       "      <td>115.00</td>\n",
       "      <td>300.0</td>\n",
       "    </tr>\n",
       "    <tr>\n",
       "      <th>wallstreetbets</th>\n",
       "      <td>787.0</td>\n",
       "      <td>155.496823</td>\n",
       "      <td>59.844994</td>\n",
       "      <td>39.0</td>\n",
       "      <td>104.0</td>\n",
       "      <td>148.0</td>\n",
       "      <td>200.00</td>\n",
       "      <td>300.0</td>\n",
       "    </tr>\n",
       "  </tbody>\n",
       "</table>\n",
       "</div>"
      ],
      "text/plain": [
       "                  count        mean        std   min    25%    50%     75%  \\\n",
       "subreddit                                                                    \n",
       "RobinHood         787.0   48.623888  34.080407   6.0   24.0   38.0   68.00   \n",
       "SecurityAnalysis  784.0    8.196429   4.019707   1.0    5.0    8.0   10.25   \n",
       "investing         787.0   82.658196  33.939121  21.0   58.0   80.0  100.00   \n",
       "stocks            787.0   81.621347  50.449571  11.0   39.0   70.0  115.00   \n",
       "wallstreetbets    787.0  155.496823  59.844994  39.0  104.0  148.0  200.00   \n",
       "\n",
       "                    max  \n",
       "subreddit                \n",
       "RobinHood         258.0  \n",
       "SecurityAnalysis   31.0  \n",
       "investing         268.0  \n",
       "stocks            300.0  \n",
       "wallstreetbets    300.0  "
      ]
     },
     "execution_count": 40,
     "metadata": {},
     "output_type": "execute_result"
    }
   ],
   "source": [
    "#id_cnt = pd.read_csv('id_cnt.csv',header=None)\n",
    "id_cnt.columns =['count','subreddit','date']\n",
    "id_cnt.groupby(['subreddit'])['count'].describe()"
   ]
  },
  {
   "cell_type": "markdown",
   "metadata": {},
   "source": [
    "## 3. Avg subscribers for each subreddit by day"
   ]
  },
  {
   "cell_type": "code",
   "execution_count": 33,
   "metadata": {},
   "outputs": [],
   "source": [
    "# count avg Number Of subscribers in a week\n",
    "def averagelist(lst):\n",
    "    s=0\n",
    "    for i in lst:\n",
    "        s+=i\n",
    "        return (s // len(lst))"
   ]
  },
  {
   "cell_type": "code",
   "execution_count": 27,
   "metadata": {},
   "outputs": [],
   "source": [
    "subscr_subreddit_pairs = reddit_rdd.map(lambda x:((x['author_fullname'],x['subreddit_id'],str(x['subreddit_subscribers']),x['date']),1))\\\n",
    ".filter(lambda x: x[0][0] != 'nan')\\\n",
    ".reduceByKey(lambda x,y: x+y).mapValues(lambda x: 1)\n",
    "\n",
    "subscr_subreddit_pairs_cnt = subscr_subreddit_pairs.map(lambda x:((x[0][1],x[0][3]),x[0][2] ))\\\n",
    ".reduceByKey(lambda x,y: x+' '+y )\n",
    "\n",
    "subscr_subreddit_pairs_cnt1 = subscr_subreddit_pairs_cnt.map(  lambda d:  (d[0],  [ int(x) for x in  d[1].split(\" \") ]  )  )\n",
    "subscr_subreddit_pairs_cnt = subscr_subreddit_pairs_cnt1.map(lambda d:(d[0], averagelist(d[1])))"
   ]
  },
  {
   "cell_type": "code",
   "execution_count": 28,
   "metadata": {},
   "outputs": [],
   "source": [
    "# save the result to the file\n",
    "deptColumns = [\"temp\",\"AverageSubscribers\"]\n",
    "df1 = subscr_subreddit_pairs_cnt.toDF(deptColumns)\n",
    "\n",
    "sid = udf(lambda x: x[0] )\n",
    "df1 = df1.withColumn('SubredditID', sid(df1['temp']))\n",
    "\n",
    "date = udf(lambda x: x[1] )\n",
    "df1 = df1.withColumn('date', date(df1['temp']))\n",
    "\n",
    "df1 = df1.drop('temp')\n",
    "\n",
    "df1.coalesce(1).write.csv('subscribers_avg')"
   ]
  },
  {
   "cell_type": "markdown",
   "metadata": {},
   "source": [
    "#### Stats"
   ]
  },
  {
   "cell_type": "code",
   "execution_count": 39,
   "metadata": {},
   "outputs": [
    {
     "data": {
      "text/html": [
       "<div>\n",
       "<style scoped>\n",
       "    .dataframe tbody tr th:only-of-type {\n",
       "        vertical-align: middle;\n",
       "    }\n",
       "\n",
       "    .dataframe tbody tr th {\n",
       "        vertical-align: top;\n",
       "    }\n",
       "\n",
       "    .dataframe thead th {\n",
       "        text-align: right;\n",
       "    }\n",
       "</style>\n",
       "<table border=\"1\" class=\"dataframe\">\n",
       "  <thead>\n",
       "    <tr style=\"text-align: right;\">\n",
       "      <th></th>\n",
       "      <th>count</th>\n",
       "      <th>mean</th>\n",
       "      <th>std</th>\n",
       "      <th>min</th>\n",
       "      <th>25%</th>\n",
       "      <th>50%</th>\n",
       "      <th>75%</th>\n",
       "      <th>max</th>\n",
       "    </tr>\n",
       "    <tr>\n",
       "      <th>subreddit</th>\n",
       "      <th></th>\n",
       "      <th></th>\n",
       "      <th></th>\n",
       "      <th></th>\n",
       "      <th></th>\n",
       "      <th></th>\n",
       "      <th></th>\n",
       "      <th></th>\n",
       "    </tr>\n",
       "  </thead>\n",
       "  <tbody>\n",
       "    <tr>\n",
       "      <th>RobinHood</th>\n",
       "      <td>787.0</td>\n",
       "      <td>7204.022872</td>\n",
       "      <td>4670.172583</td>\n",
       "      <td>1574.0</td>\n",
       "      <td>4003.0</td>\n",
       "      <td>5691.0</td>\n",
       "      <td>8730.50</td>\n",
       "      <td>33703.0</td>\n",
       "    </tr>\n",
       "    <tr>\n",
       "      <th>SecurityAnalysis</th>\n",
       "      <td>784.0</td>\n",
       "      <td>12030.364796</td>\n",
       "      <td>11165.964576</td>\n",
       "      <td>2145.0</td>\n",
       "      <td>6371.0</td>\n",
       "      <td>9490.0</td>\n",
       "      <td>14099.25</td>\n",
       "      <td>153019.0</td>\n",
       "    </tr>\n",
       "    <tr>\n",
       "      <th>investing</th>\n",
       "      <td>787.0</td>\n",
       "      <td>13111.307497</td>\n",
       "      <td>4691.328889</td>\n",
       "      <td>4761.0</td>\n",
       "      <td>10143.0</td>\n",
       "      <td>12077.0</td>\n",
       "      <td>15000.00</td>\n",
       "      <td>56348.0</td>\n",
       "    </tr>\n",
       "    <tr>\n",
       "      <th>stocks</th>\n",
       "      <td>787.0</td>\n",
       "      <td>9465.649301</td>\n",
       "      <td>8392.757268</td>\n",
       "      <td>3228.0</td>\n",
       "      <td>6141.5</td>\n",
       "      <td>8308.0</td>\n",
       "      <td>11163.00</td>\n",
       "      <td>213112.0</td>\n",
       "    </tr>\n",
       "    <tr>\n",
       "      <th>wallstreetbets</th>\n",
       "      <td>787.0</td>\n",
       "      <td>7988.834816</td>\n",
       "      <td>7035.974612</td>\n",
       "      <td>2896.0</td>\n",
       "      <td>5250.0</td>\n",
       "      <td>6524.0</td>\n",
       "      <td>8126.00</td>\n",
       "      <td>92528.0</td>\n",
       "    </tr>\n",
       "  </tbody>\n",
       "</table>\n",
       "</div>"
      ],
      "text/plain": [
       "                  count          mean           std     min      25%      50%  \\\n",
       "subreddit                                                                       \n",
       "RobinHood         787.0   7204.022872   4670.172583  1574.0   4003.0   5691.0   \n",
       "SecurityAnalysis  784.0  12030.364796  11165.964576  2145.0   6371.0   9490.0   \n",
       "investing         787.0  13111.307497   4691.328889  4761.0  10143.0  12077.0   \n",
       "stocks            787.0   9465.649301   8392.757268  3228.0   6141.5   8308.0   \n",
       "wallstreetbets    787.0   7988.834816   7035.974612  2896.0   5250.0   6524.0   \n",
       "\n",
       "                       75%       max  \n",
       "subreddit                             \n",
       "RobinHood          8730.50   33703.0  \n",
       "SecurityAnalysis  14099.25  153019.0  \n",
       "investing         15000.00   56348.0  \n",
       "stocks            11163.00  213112.0  \n",
       "wallstreetbets     8126.00   92528.0  "
      ]
     },
     "execution_count": 39,
     "metadata": {},
     "output_type": "execute_result"
    }
   ],
   "source": [
    "#subscribers_avg = pd.read_csv('subscribers_avg.csv',header=None)\n",
    "subscribers_avg.columns =['count','subreddit','date']\n",
    "subscribers_avg.groupby(['subreddit'])['count'].describe()"
   ]
  },
  {
   "cell_type": "markdown",
   "metadata": {},
   "source": [
    "## 4. Retention rate for each subreddit pair by day"
   ]
  },
  {
   "cell_type": "code",
   "execution_count": 13,
   "metadata": {},
   "outputs": [],
   "source": [
    "df = pd.read_csv('submissions_full.csv')\n",
    "df = df[['author_fullname','subreddit_id','created_utc']]\n",
    "\n",
    "df['date'] = df['created_utc'].apply(lambda x: datetime.strptime(x, '%Y-%m-%d %H:%M:%S').strftime('%x'))\n",
    "df['date'] = pd.to_datetime(df.date, format='%m/%d/%y')\n",
    "\n",
    "count = df.groupby(['subreddit_id','date'])['author_fullname'].count()\n",
    "count = pd.DataFrame(count)"
   ]
  },
  {
   "cell_type": "code",
   "execution_count": 14,
   "metadata": {},
   "outputs": [],
   "source": [
    "numerator = count\n",
    "denominator = count\n",
    "\n",
    "denominator = denominator.reset_index()\n",
    "denominator = denominator.sort_values(by = 'date')\n",
    "\n",
    "reddits = denominator['subreddit_id'].unique().tolist()\n",
    "subgroup = denominator.groupby(['subreddit_id'])\n",
    "df1 = subgroup.get_group('2qhhq').sort_values(by = 'date')\n",
    "df2 = subgroup.get_group('2th52').sort_values(by = 'date').reset_index(drop = True)\n",
    "df3 = subgroup.get_group('2s7v0').sort_values(by = 'date').reset_index(drop = True)\n",
    "df4 = subgroup.get_group('2qjfk').sort_values(by = 'date').reset_index(drop = True)\n",
    "df5 = subgroup.get_group('2uud8').sort_values(by = 'date').reset_index(drop = True)"
   ]
  },
  {
   "cell_type": "code",
   "execution_count": 15,
   "metadata": {},
   "outputs": [],
   "source": [
    "def get_sum(dataset):\n",
    "    for j in range(len(dataset)):\n",
    "        datanew = dataset\n",
    "        a = j-30\n",
    "        b = j\n",
    "        c = datanew.iloc[a:b,2].sum()\n",
    "        datanew.loc[j,'total'] = c\n",
    "    return datanew"
   ]
  },
  {
   "cell_type": "code",
   "execution_count": 16,
   "metadata": {},
   "outputs": [],
   "source": [
    "df11 = get_sum(df1)\n",
    "df21 = get_sum(df2)\n",
    "df31 = get_sum(df3)\n",
    "df41 = get_sum(df4)\n",
    "df51 = get_sum(df5)\n",
    "\n",
    "rate = pd.DataFrame()\n",
    "\n",
    "rate = rate.append(df11)\n",
    "rate = rate.append(df21)\n",
    "rate = rate.append(df31)\n",
    "rate = rate.append(df41)\n",
    "rate = rate.append(df51)"
   ]
  },
  {
   "cell_type": "code",
   "execution_count": 17,
   "metadata": {},
   "outputs": [],
   "source": [
    "rate = rate.replace(0,np.nan)\n",
    "rate['retention_rate'] = rate['author_fullname'] / rate['total']\n",
    "rate = rate.drop(columns = ['author_fullname','total'])\n",
    "rate = rate.reset_index(drop = True)"
   ]
  },
  {
   "cell_type": "code",
   "execution_count": null,
   "metadata": {},
   "outputs": [],
   "source": [
    "rate.to_csv('retention_rate.csv')"
   ]
  },
  {
   "cell_type": "markdown",
   "metadata": {},
   "source": [
    "## 5. Avg score for each subreddit by day"
   ]
  },
  {
   "cell_type": "code",
   "execution_count": 14,
   "metadata": {},
   "outputs": [],
   "source": [
    "subreddit_score_pairs = reddit_rdd.map(lambda x:((x['author_fullname'],x['subreddit_id'],str(x['score']),x['date']),1))\\\n",
    ".filter(lambda x: x[0][0] != 'nan')\\\n",
    ".reduceByKey(lambda x,y: x+y).mapValues(lambda x: 1)"
   ]
  },
  {
   "cell_type": "code",
   "execution_count": 16,
   "metadata": {},
   "outputs": [],
   "source": [
    "subreddit_score_pairs_cnt = subreddit_score_pairs.map(lambda x:((x[0][1],x[0][3]),x[0][2] ))\\\n",
    ".reduceByKey(lambda x,y: x+' '+y )"
   ]
  },
  {
   "cell_type": "code",
   "execution_count": 18,
   "metadata": {},
   "outputs": [],
   "source": [
    "subreddit_score_pairs_cnt_split = subreddit_score_pairs_cnt.map(  lambda d:  (d[0],  [ int(x) for x in  d[1].split(\" \") ]  )  )"
   ]
  },
  {
   "cell_type": "code",
   "execution_count": 20,
   "metadata": {},
   "outputs": [],
   "source": [
    "subreddit_score_pairs_cnt = subreddit_score_pairs_cnt_split.map(lambda d:(d[0], averagelist(d[1])))"
   ]
  },
  {
   "cell_type": "code",
   "execution_count": 26,
   "metadata": {},
   "outputs": [],
   "source": [
    "# save the result to the file\n",
    "deptColumns = [\"temp\",\"AverageScore\"]\n",
    "df1 = subreddit_score_pairs_cnt.toDF(deptColumns)\n",
    "\n",
    "sid = udf(lambda x: x[0] )\n",
    "df1 = df1.withColumn('SubredditID', sid(df1['temp']))\n",
    "\n",
    "date = udf(lambda x: x[1] )\n",
    "df1 = df1.withColumn('date', date(df1['temp']))\n",
    "\n",
    "df1 = df1.drop('temp')\n",
    "\n",
    "df1.coalesce(1).write.csv('score_avg')"
   ]
  },
  {
   "cell_type": "markdown",
   "metadata": {},
   "source": [
    "#### Stats"
   ]
  },
  {
   "cell_type": "code",
   "execution_count": 12,
   "metadata": {},
   "outputs": [
    {
     "data": {
      "text/html": [
       "<div>\n",
       "<style scoped>\n",
       "    .dataframe tbody tr th:only-of-type {\n",
       "        vertical-align: middle;\n",
       "    }\n",
       "\n",
       "    .dataframe tbody tr th {\n",
       "        vertical-align: top;\n",
       "    }\n",
       "\n",
       "    .dataframe thead th {\n",
       "        text-align: right;\n",
       "    }\n",
       "</style>\n",
       "<table border=\"1\" class=\"dataframe\">\n",
       "  <thead>\n",
       "    <tr style=\"text-align: right;\">\n",
       "      <th></th>\n",
       "      <th>count</th>\n",
       "      <th>mean</th>\n",
       "      <th>std</th>\n",
       "      <th>min</th>\n",
       "      <th>25%</th>\n",
       "      <th>50%</th>\n",
       "      <th>75%</th>\n",
       "      <th>max</th>\n",
       "    </tr>\n",
       "    <tr>\n",
       "      <th>subreddit</th>\n",
       "      <th></th>\n",
       "      <th></th>\n",
       "      <th></th>\n",
       "      <th></th>\n",
       "      <th></th>\n",
       "      <th></th>\n",
       "      <th></th>\n",
       "      <th></th>\n",
       "    </tr>\n",
       "  </thead>\n",
       "  <tbody>\n",
       "    <tr>\n",
       "      <th>RobinHood</th>\n",
       "      <td>787.0</td>\n",
       "      <td>0.250318</td>\n",
       "      <td>2.173659</td>\n",
       "      <td>0.0</td>\n",
       "      <td>0.0</td>\n",
       "      <td>0.0</td>\n",
       "      <td>0.0</td>\n",
       "      <td>48.0</td>\n",
       "    </tr>\n",
       "    <tr>\n",
       "      <th>SecurityAnalysis</th>\n",
       "      <td>784.0</td>\n",
       "      <td>1.125000</td>\n",
       "      <td>4.398675</td>\n",
       "      <td>0.0</td>\n",
       "      <td>0.0</td>\n",
       "      <td>0.0</td>\n",
       "      <td>0.0</td>\n",
       "      <td>48.0</td>\n",
       "    </tr>\n",
       "    <tr>\n",
       "      <th>investing</th>\n",
       "      <td>787.0</td>\n",
       "      <td>0.270648</td>\n",
       "      <td>2.677622</td>\n",
       "      <td>0.0</td>\n",
       "      <td>0.0</td>\n",
       "      <td>0.0</td>\n",
       "      <td>0.0</td>\n",
       "      <td>44.0</td>\n",
       "    </tr>\n",
       "    <tr>\n",
       "      <th>stocks</th>\n",
       "      <td>787.0</td>\n",
       "      <td>0.175349</td>\n",
       "      <td>1.176423</td>\n",
       "      <td>0.0</td>\n",
       "      <td>0.0</td>\n",
       "      <td>0.0</td>\n",
       "      <td>0.0</td>\n",
       "      <td>13.0</td>\n",
       "    </tr>\n",
       "    <tr>\n",
       "      <th>wallstreetbets</th>\n",
       "      <td>787.0</td>\n",
       "      <td>0.668361</td>\n",
       "      <td>6.206830</td>\n",
       "      <td>0.0</td>\n",
       "      <td>0.0</td>\n",
       "      <td>0.0</td>\n",
       "      <td>0.0</td>\n",
       "      <td>121.0</td>\n",
       "    </tr>\n",
       "  </tbody>\n",
       "</table>\n",
       "</div>"
      ],
      "text/plain": [
       "                  count      mean       std  min  25%  50%  75%    max\n",
       "subreddit                                                             \n",
       "RobinHood         787.0  0.250318  2.173659  0.0  0.0  0.0  0.0   48.0\n",
       "SecurityAnalysis  784.0  1.125000  4.398675  0.0  0.0  0.0  0.0   48.0\n",
       "investing         787.0  0.270648  2.677622  0.0  0.0  0.0  0.0   44.0\n",
       "stocks            787.0  0.175349  1.176423  0.0  0.0  0.0  0.0   13.0\n",
       "wallstreetbets    787.0  0.668361  6.206830  0.0  0.0  0.0  0.0  121.0"
      ]
     },
     "execution_count": 12,
     "metadata": {},
     "output_type": "execute_result"
    }
   ],
   "source": [
    "#score_avg = pd.read_csv('score_avg.csv',header=None)\n",
    "score_avg.columns =['count','subreddit','date']\n",
    "score_avg.groupby(['subreddit'])['count'].describe()"
   ]
  },
  {
   "cell_type": "markdown",
   "metadata": {},
   "source": [
    "## 6. Average comments per post for each subreddit by day"
   ]
  },
  {
   "cell_type": "code",
   "execution_count": 23,
   "metadata": {},
   "outputs": [],
   "source": [
    "subreddit_cmt_pairs = reddit_rdd.map(lambda x:((x['author_fullname'],x['subreddit_id'],str(x['num_comments']),x['date']),1))\\\n",
    ".filter(lambda x: x[0][0] != 'nan')\\\n",
    ".reduceByKey(lambda x,y: x+y).mapValues(lambda x: 1)"
   ]
  },
  {
   "cell_type": "code",
   "execution_count": 26,
   "metadata": {},
   "outputs": [],
   "source": [
    "subreddit_cmt_pairs_cnt = subreddit_cmt_pairs.map(lambda x:((x[0][1],x[0][3]),x[0][2] ))\\\n",
    ".reduceByKey(lambda x,y: x+' '+y )"
   ]
  },
  {
   "cell_type": "code",
   "execution_count": 28,
   "metadata": {},
   "outputs": [],
   "source": [
    "subreddit_cmt_pairs_cnt_split = subreddit_cmt_pairs_cnt.map(  lambda d:  (d[0],  [ int(x) for x in  d[1].split(\" \") ]  )  )"
   ]
  },
  {
   "cell_type": "code",
   "execution_count": 34,
   "metadata": {},
   "outputs": [],
   "source": [
    "subreddit_cmt_pairs_cnt_final = subreddit_cmt_pairs_cnt_split.map(lambda d:(d[0], averagelist(d[1])))"
   ]
  },
  {
   "cell_type": "code",
   "execution_count": 36,
   "metadata": {},
   "outputs": [],
   "source": [
    "# save the result to the file\n",
    "deptColumns = [\"temp\",\"AverageComment\"]\n",
    "df1 = subreddit_cmt_pairs_cnt_final.toDF(deptColumns)\n",
    "\n",
    "sid = udf(lambda x: x[0] )\n",
    "df1 = df1.withColumn('SubredditID', sid(df1['temp']))\n",
    "\n",
    "date = udf(lambda x: x[1] )\n",
    "df1 = df1.withColumn('date', date(df1['temp']))\n",
    "\n",
    "df1 = df1.drop('temp')\n",
    "\n",
    "df1.coalesce(1).write.csv('comment_avg')"
   ]
  },
  {
   "cell_type": "markdown",
   "metadata": {},
   "source": [
    "#### Stats"
   ]
  },
  {
   "cell_type": "code",
   "execution_count": 44,
   "metadata": {},
   "outputs": [
    {
     "data": {
      "text/html": [
       "<div>\n",
       "<style scoped>\n",
       "    .dataframe tbody tr th:only-of-type {\n",
       "        vertical-align: middle;\n",
       "    }\n",
       "\n",
       "    .dataframe tbody tr th {\n",
       "        vertical-align: top;\n",
       "    }\n",
       "\n",
       "    .dataframe thead th {\n",
       "        text-align: right;\n",
       "    }\n",
       "</style>\n",
       "<table border=\"1\" class=\"dataframe\">\n",
       "  <thead>\n",
       "    <tr style=\"text-align: right;\">\n",
       "      <th></th>\n",
       "      <th>count</th>\n",
       "      <th>mean</th>\n",
       "      <th>std</th>\n",
       "      <th>min</th>\n",
       "      <th>25%</th>\n",
       "      <th>50%</th>\n",
       "      <th>75%</th>\n",
       "      <th>max</th>\n",
       "    </tr>\n",
       "    <tr>\n",
       "      <th>subreddit</th>\n",
       "      <th></th>\n",
       "      <th></th>\n",
       "      <th></th>\n",
       "      <th></th>\n",
       "      <th></th>\n",
       "      <th></th>\n",
       "      <th></th>\n",
       "      <th></th>\n",
       "    </tr>\n",
       "  </thead>\n",
       "  <tbody>\n",
       "    <tr>\n",
       "      <th>RobinHood</th>\n",
       "      <td>787.0</td>\n",
       "      <td>0.141042</td>\n",
       "      <td>0.975100</td>\n",
       "      <td>0.0</td>\n",
       "      <td>0.0</td>\n",
       "      <td>0.0</td>\n",
       "      <td>0.0</td>\n",
       "      <td>21.0</td>\n",
       "    </tr>\n",
       "    <tr>\n",
       "      <th>SecurityAnalysis</th>\n",
       "      <td>784.0</td>\n",
       "      <td>1.391582</td>\n",
       "      <td>3.897601</td>\n",
       "      <td>0.0</td>\n",
       "      <td>0.0</td>\n",
       "      <td>0.0</td>\n",
       "      <td>1.0</td>\n",
       "      <td>44.0</td>\n",
       "    </tr>\n",
       "    <tr>\n",
       "      <th>investing</th>\n",
       "      <td>787.0</td>\n",
       "      <td>0.182973</td>\n",
       "      <td>1.043367</td>\n",
       "      <td>0.0</td>\n",
       "      <td>0.0</td>\n",
       "      <td>0.0</td>\n",
       "      <td>0.0</td>\n",
       "      <td>17.0</td>\n",
       "    </tr>\n",
       "    <tr>\n",
       "      <th>stocks</th>\n",
       "      <td>787.0</td>\n",
       "      <td>0.259212</td>\n",
       "      <td>2.130931</td>\n",
       "      <td>0.0</td>\n",
       "      <td>0.0</td>\n",
       "      <td>0.0</td>\n",
       "      <td>0.0</td>\n",
       "      <td>54.0</td>\n",
       "    </tr>\n",
       "    <tr>\n",
       "      <th>wallstreetbets</th>\n",
       "      <td>787.0</td>\n",
       "      <td>1.459975</td>\n",
       "      <td>10.918125</td>\n",
       "      <td>0.0</td>\n",
       "      <td>0.0</td>\n",
       "      <td>0.0</td>\n",
       "      <td>0.0</td>\n",
       "      <td>173.0</td>\n",
       "    </tr>\n",
       "  </tbody>\n",
       "</table>\n",
       "</div>"
      ],
      "text/plain": [
       "                  count      mean        std  min  25%  50%  75%    max\n",
       "subreddit                                                              \n",
       "RobinHood         787.0  0.141042   0.975100  0.0  0.0  0.0  0.0   21.0\n",
       "SecurityAnalysis  784.0  1.391582   3.897601  0.0  0.0  0.0  1.0   44.0\n",
       "investing         787.0  0.182973   1.043367  0.0  0.0  0.0  0.0   17.0\n",
       "stocks            787.0  0.259212   2.130931  0.0  0.0  0.0  0.0   54.0\n",
       "wallstreetbets    787.0  1.459975  10.918125  0.0  0.0  0.0  0.0  173.0"
      ]
     },
     "execution_count": 44,
     "metadata": {},
     "output_type": "execute_result"
    }
   ],
   "source": [
    "#comment_avg = pd.read_csv('comment_avg.csv',header=None)\n",
    "comment_avg.columns =['count','subreddit','date']\n",
    "comment_avg.groupby(['subreddit'])['count'].describe()"
   ]
  },
  {
   "cell_type": "markdown",
   "metadata": {},
   "source": [
    "## 7. Connectivity among subreddits by day"
   ]
  },
  {
   "cell_type": "code",
   "execution_count": 10,
   "metadata": {},
   "outputs": [],
   "source": [
    "comment = pd.read_csv('comments_full.csv')"
   ]
  },
  {
   "cell_type": "code",
   "execution_count": 11,
   "metadata": {},
   "outputs": [],
   "source": [
    "comment['date'] = comment['created_utc'].apply(lambda x: datetime.strptime(x, '%Y-%m-%d %H:%M:%S').strftime('%x'))\n",
    "comment['date'] = pd.to_datetime(comment['date'], format='%m/%d/%y')\n",
    "\n",
    "reddit_cross = pd.DataFrame(comment.groupby(['date','author'])['subreddit'].count()).reset_index()\n",
    "reddit_cross['subreddit'] = reddit_cross['subreddit']-1\n",
    "\n",
    "df = pd.DataFrame(reddit_cross.groupby(['date'])['subreddit'].mean().reset_index())\n",
    "df.rename(columns={'subreddit': 'connectivity'}, inplace=True)\n",
    "#df.to_csv('connectivity.csv',index=False)"
   ]
  }
 ],
 "metadata": {
  "kernelspec": {
   "display_name": "Python 3",
   "language": "python",
   "name": "python3"
  },
  "language_info": {
   "codemirror_mode": {
    "name": "ipython",
    "version": 3
   },
   "file_extension": ".py",
   "mimetype": "text/x-python",
   "name": "python",
   "nbconvert_exporter": "python",
   "pygments_lexer": "ipython3",
   "version": "3.7.6"
  }
 },
 "nbformat": 4,
 "nbformat_minor": 4
}
