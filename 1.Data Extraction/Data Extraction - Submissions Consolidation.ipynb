{
 "cells": [
  {
   "cell_type": "code",
   "execution_count": 1,
   "metadata": {
    "scrolled": true
   },
   "outputs": [
    {
     "name": "stderr",
     "output_type": "stream",
     "text": [
      "[nltk_data] Downloading package vader_lexicon to\n",
      "[nltk_data]     C:\\Users\\Ace\\AppData\\Roaming\\nltk_data...\n",
      "[nltk_data]   Package vader_lexicon is already up-to-date!\n",
      "[nltk_data] Downloading package stopwords to\n",
      "[nltk_data]     C:\\Users\\Ace\\AppData\\Roaming\\nltk_data...\n",
      "[nltk_data]   Package stopwords is already up-to-date!\n"
     ]
    }
   ],
   "source": [
    "import pandas as pd\n",
    "import numpy as np\n",
    "import os\n",
    "from os import listdir\n",
    "from os.path import isfile, isdir, join\n",
    "import ast\n",
    "import sys\n",
    "import time\n",
    "import datetime\n",
    "\n",
    "#vader\n",
    "import nltk\n",
    "nltk.download('vader_lexicon')\n",
    "from nltk.sentiment.vader import SentimentIntensityAnalyzer\n",
    "\n",
    "import re\n",
    "import string\n",
    "nltk.download('stopwords')\n",
    "from nltk.corpus import stopwords\n",
    "\n",
    "#Display Setting\n",
    "import warnings\n",
    "warnings.filterwarnings(\"ignore\")\n",
    "pd.set_option(\"display.max_columns\", 100)\n",
    "pd.set_option(\"display.max_rows\", 100)\n",
    "\n",
    "#detect language\n",
    "from textblob import TextBlob  "
   ]
  },
  {
   "cell_type": "code",
   "execution_count": 2,
   "metadata": {},
   "outputs": [],
   "source": [
    "## Useful functions\n",
    "def seconds_time(s):\n",
    "    seconds_set = \" \"+str(s%60)+\"sec\" if s%60!=0 else \"\"\n",
    "    s = s//60\n",
    "    \n",
    "    mins_set = \" \"+str(s%60)+\"min\" if s%60!=0 else \"\"\n",
    "    s = s//60\n",
    "    \n",
    "    hrs_set = \" \"+str(s%24)+\"hr\" if s%24!=0 else \"\"\n",
    "    s = s//24\n",
    "    \n",
    "    s = str(s)+\"days\" if s!=0 else \"\"\n",
    "    \n",
    "    return s+hrs_set+mins_set+seconds_set"
   ]
  },
  {
   "cell_type": "code",
   "execution_count": 3,
   "metadata": {
    "scrolled": true
   },
   "outputs": [
    {
     "name": "stdout",
     "output_type": "stream",
     "text": [
      "Data done extract in  4min 13sec with count of 296357\n"
     ]
    }
   ],
   "source": [
    "start_time_df = datetime.datetime.now()\n",
    "\n",
    "from pyspark.sql import SparkSession\n",
    "from pyspark import SparkConf, SparkContext\n",
    "\n",
    "sc = SparkContext(\"local[2]\")\n",
    "spark = SparkSession.builder.master(\"local[2]\").getOrCreate()\n",
    "\n",
    "#directory of the unzipped data profile\n",
    "df = spark.read.json(r\".\\*\\*\\submissions\\*.json\")\n",
    "\n",
    "stop_time_df = datetime.datetime.now()\n",
    "print(\"Data done extract in \"+seconds_time((stop_time_df-start_time_df).seconds)+\" with count of \"+str(df.count()))"
   ]
  },
  {
   "cell_type": "markdown",
   "metadata": {},
   "source": [
    "# Content of data\n",
    "- author: author name\n",
    "- author_fullname: author ID\n",
    "- created_utc: Time to be converted to normal datetime\n",
    "- full_link: link of submission\n",
    "- id: id of submission. To be used to link from comments\n",
    "- num_comments: number of comments\n",
    "- num_crossposts: number of cross posts\n",
    "- score: Not sure but keeping just in case its some special score\n",
    "- subreddit: subreddit name\n",
    "- subreddit_id: subreddit id\n",
    "- subreddit_subscribers: number of subscribers in the subreddit\n",
    "- subreddit_type: Type of subreddit, whether public or private\n",
    "- title: title of submission"
   ]
  },
  {
   "cell_type": "code",
   "execution_count": 5,
   "metadata": {},
   "outputs": [],
   "source": [
    "import pyspark.sql.functions as F\n",
    "from pyspark.sql.types import *"
   ]
  },
  {
   "cell_type": "code",
   "execution_count": 6,
   "metadata": {},
   "outputs": [],
   "source": [
    "df_set = df.withColumn(\"created_utc\", F.col(\"created_utc\")/1000)\n",
    "df_set = df_set.withColumn(\"created_utc\", F.from_unixtime(\"created_utc\"))\n",
    "df_set = df_set.orderBy(F.col(\"created_utc\").asc())\n",
    "df_set = df_set.dropDuplicates()\n",
    "df_set = df_set.orderBy(F.col(\"created_utc\").asc())"
   ]
  },
  {
   "cell_type": "code",
   "execution_count": 7,
   "metadata": {
    "scrolled": true
   },
   "outputs": [
    {
     "name": "stdout",
     "output_type": "stream",
     "text": [
      "+-------------------+---------------+-------------------+-------------------+--------------------+------+------------+--------------+-----+--------------------+--------------+------------+----------------+---------------------+--------------+--------------------+\n",
      "|             author|author_fullname|author_fullname_lvl|        created_utc|           full_link|    id|num_comments|num_crossposts|score|            selftext|     subreddit|subreddit_id|subreddit_id_lvl|subreddit_subscribers|subreddit_type|               title|\n",
      "+-------------------+---------------+-------------------+-------------------+--------------------+------+------------+--------------+-----+--------------------+--------------+------------+----------------+---------------------+--------------+--------------------+\n",
      "|   CautiousInvestor|       2gcxulwq|                 t2|2019-01-01 08:01:42|https://www.reddi...|ab8cj7|         412|             0|    1|                    |     investing|       2qhhq|              t5|               643895|        public|How can the US st...|\n",
      "|           Sofla328|          f30ge|                 t2|2019-01-01 08:03:29|https://www.reddi...|ab8d5o|           1|             0|    1|There's a term li...|        stocks|       2qjfk|              t5|               307335|        public|Term for a broker...|\n",
      "|            Diddy43|          xmf0y|                 t2|2019-01-01 08:06:00|https://www.reddi...|ab8e00|          14|             0|    1|I was looking at ...|        stocks|       2qjfk|              t5|               307337|        public|How do people mak...|\n",
      "|         moritzferr|       2ltvuind|                 t2|2019-01-01 08:06:14|https://www.reddi...|ab8e33|           8|             0|    1|Hey you,\n",
      "\n",
      "my name...|     investing|       2qhhq|              t5|               643898|        public|I am not able to ...|\n",
      "|         GianniV123|       2axin53e|                 t2|2019-01-01 08:08:58|https://www.reddi...|ab8f0h|           0|             0|    1|                    |     RobinHood|       2uud8|              t5|               126522|        public|FB n SPY Bouncing...|\n",
      "|           Sofla328|          f30ge|                 t2|2019-01-01 08:14:06|https://www.reddi...|ab8gtr|           0|             0|    1|## There's a term...|     investing|       2qhhq|              t5|               643901|        public|Term for a broker...|\n",
      "|   ObviousRecession|       2grpziyw|                 t2|2019-01-01 08:15:51|https://www.reddi...|ab8hf6|           0|             0|    1|I mentioned in an...|wallstreetbets|       2th52|              t5|               454695|        public|user follows me t...|\n",
      "|            Diddy43|          xmf0y|                 t2|2019-01-01 08:18:01|https://www.reddi...|ab8i7o|          17|             0|    1|I was looking at ...|wallstreetbets|       2th52|              t5|               454695|        public|How do people mak...|\n",
      "|        InsaneTeemo|          kg37k|                 t2|2019-01-01 08:20:19|https://www.reddi...|ab8iyq|           2|             0|    1|           [removed]|        stocks|       2qjfk|              t5|               307341|        public|What are some goo...|\n",
      "|     checklistmaker|         11ymxu|                 t2|2019-01-01 08:24:59|https://www.reddi...|ab8kjz|          10|             0|    1|I bought Square i...|        stocks|       2qjfk|              t5|               307344|        public|     Do you like SQ?|\n",
      "|             Yocz23|          knp9a|                 t2|2019-01-01 08:30:00|https://www.reddi...|ab8m7v|           6|             0|    1|Looking to make o...|wallstreetbets|       2th52|              t5|               454698|        public|Last Big play of ...|\n",
      "|            krisoco|          zyv3s|                 t2|2019-01-01 08:38:03|https://www.reddi...|ab8ous|          13|             0|    1|Hello all,\n",
      "\n",
      "&amp;...|     investing|       2qhhq|              t5|               643918|        public|Will a Fidelity 5...|\n",
      "|     lightshiner001|       1t0vhdvf|                 t2|2019-01-01 08:41:12|https://www.reddi...|ab8pw5|           6|             0|    1|I have a bunch of...|     investing|       2qhhq|              t5|               643919|        public|What’s the best w...|\n",
      "| HarboringOnALament|         10qhzu|                 t2|2019-01-01 08:42:02|https://www.reddi...|ab8q60|           0|             0|    1|                    |wallstreetbets|       2th52|              t5|               454697|        public|T E N T C O N F I...|\n",
      "|pimpincelapparently|       2msnbry7|                 t2|2019-01-01 08:44:06|https://www.reddi...|ab8qv0|           8|             0|    1|holy... so overso...|wallstreetbets|       2th52|              t5|               454698|        public|at this price for...|\n",
      "|        Jeebzus2014|          j41g8|                 t2|2019-01-01 08:50:16|https://www.reddi...|ab8t1h|           7|             0|    1|Can we talk about...|     investing|       2qhhq|              t5|               643926|        public|Can we talk about...|\n",
      "|          Tradeeeee|       11xl933t|                 t2|2019-01-01 08:55:49|https://www.reddi...|ab8uwz|          71|             0|    1|                    |wallstreetbets|       2th52|              t5|               454698|        public|  Wallstreetbets duh|\n",
      "|   thelostgeologist|       2q2q2lct|                 t2|2019-01-01 08:55:54|https://www.reddi...|ab8uxw|           0|             0|    1|What are people’s...|wallstreetbets|       2th52|              t5|               454698|        public|Thoughts on preci...|\n",
      "|           Warwolf5|          rfhxx|                 t2|2019-01-01 08:59:34|https://www.reddi...|ab8w6e|           5|             0|    1|                    |wallstreetbets|       2th52|              t5|               454698|        public|My plans for New ...|\n",
      "|          aifactors|        x59qqum|                 t2|2019-01-01 09:02:30|https://www.reddi...|ab8xau|           1|             0|    1|Hi, I'm intereste...|     investing|       2qhhq|              t5|               643929|        public|Sovereign bond an...|\n",
      "+-------------------+---------------+-------------------+-------------------+--------------------+------+------------+--------------+-----+--------------------+--------------+------------+----------------+---------------------+--------------+--------------------+\n",
      "only showing top 20 rows\n",
      "\n"
     ]
    },
    {
     "data": {
      "text/plain": [
       "None"
      ]
     },
     "metadata": {},
     "output_type": "display_data"
    },
    {
     "name": "stdout",
     "output_type": "stream",
     "text": [
      "Data done extract in  2min 50sec\n"
     ]
    }
   ],
   "source": [
    "start_time = datetime.datetime.now()\n",
    "display(df_set.show())\n",
    "stop_time = datetime.datetime.now()\n",
    "print(\"Data done extract in \"+seconds_time((stop_time-start_time).seconds))"
   ]
  },
  {
   "cell_type": "code",
   "execution_count": 9,
   "metadata": {},
   "outputs": [],
   "source": [
    "df_set.toPandas().to_csv(\"submissions_full.csv\", index=False)"
   ]
  }
 ],
 "metadata": {
  "kernelspec": {
   "display_name": "Python 3",
   "language": "python",
   "name": "python3"
  },
  "language_info": {
   "codemirror_mode": {
    "name": "ipython",
    "version": 3
   },
   "file_extension": ".py",
   "mimetype": "text/x-python",
   "name": "python",
   "nbconvert_exporter": "python",
   "pygments_lexer": "ipython3",
   "version": "3.7.7"
  },
  "latex_envs": {
   "LaTeX_envs_menu_present": true,
   "autoclose": false,
   "autocomplete": true,
   "bibliofile": "biblio.bib",
   "cite_by": "apalike",
   "current_citInitial": 1,
   "eqLabelWithNumbers": true,
   "eqNumInitial": 1,
   "hotkeys": {
    "equation": "Ctrl-E",
    "itemize": "Ctrl-I"
   },
   "labels_anchors": false,
   "latex_user_defs": false,
   "report_style_numbering": false,
   "user_envs_cfg": false
  }
 },
 "nbformat": 4,
 "nbformat_minor": 4
}
